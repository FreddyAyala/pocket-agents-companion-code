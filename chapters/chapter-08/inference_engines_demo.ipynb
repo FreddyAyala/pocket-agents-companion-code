{
 "cells": [
  {
   "cell_type": "markdown",
   "metadata": {},
   "source": [
    "# Chapter 6: The Engines That Power Intelligence\n",
    "\n",
    "**Pocket Agents: A Practical Guide to On‑Device Artificial Intelligence**\n",
    "\n",
    "This notebook demonstrates the key inference engines that power on-device AI: llama.cpp, ONNX Runtime, Transformers.js, and PyTorch Mobile.\n",
    "\n",
    "## 🚀 Quick Setup Instructions\n",
    "\n",
    "### Option 1: Automated Setup (Recommended)\n",
    "```bash\n",
    "# Navigate to this directory\n",
    "cd companion-code/chapters/chapter-06\n",
    "\n",
    "# Run the setup script (creates venv, installs dependencies, launches Jupyter)\n",
    "./setup_and_test.sh\n",
    "```\n",
    "\n",
    "### Option 2: Manual Setup\n",
    "```bash\n",
    "# 1. Create virtual environment\n",
    "python3 -m venv venv\n",
    "\n",
    "# 2. Activate virtual environment\n",
    "source venv/bin/activate  # On Windows: venv\\Scripts\\activate\n",
    "\n",
    "# 3. Install dependencies\n",
    "pip install -r requirements.txt\n",
    "\n",
    "# 4. Launch Jupyter notebook\n",
    "jupyter notebook inference_engines_demo.ipynb\n",
    "```\n",
    "\n",
    "### 📋 Required Dependencies\n",
    "- **PyTorch** (≥2.0.0) - For neural network operations\n",
    "- **NumPy** (≥1.21.0) - For numerical computations\n",
    "- **Matplotlib** (≥3.5.0) - For visualizations\n",
    "- **Requests** (≥2.25.0) - For web requests\n",
    "- **Jupyter** (≥1.0.0) - For interactive notebooks\n",
    "\n",
    "## What You'll Learn\n",
    "- How different inference engines work\n",
    "- Performance comparisons between engines\n",
    "- Memory usage and optimization techniques\n",
    "- Real-world deployment considerations\n",
    "- Engine selection criteria for different platforms\n"
   ]
  },
  {
   "cell_type": "markdown",
   "metadata": {},
   "source": [
    "## 🔧 Troubleshooting\n",
    "\n",
    "### Common Issues:\n",
    "- **\"Command not found\"**: Make sure you're in the correct directory\n",
    "- **\"Permission denied\"**: Run `chmod +x setup_and_test.sh` first\n",
    "- **\"Python not found\"**: Install Python 3.8+ from python.org\n",
    "- **\"Jupyter not launching\"**: Try `jupyter lab` instead of `jupyter notebook`\n",
    "- **\"ModuleNotFoundError\"**: Make sure you're using the correct kernel (see below)\n",
    "\n",
    "### ⚠️ IMPORTANT: Kernel Setup\n",
    "If you get \"ModuleNotFoundError\" when running cells:\n",
    "\n",
    "1. **Check the kernel** in the top-right corner of Jupyter\n",
    "2. **Select the correct kernel**: Look for \"Python (venv)\" or similar\n",
    "3. **If not available**, run this in terminal:\n",
    "   ```bash\n",
    "   source venv/bin/activate\n",
    "   python -m ipykernel install --user --name=venv --display-name=\"Python (venv)\"\n",
    "   ```\n",
    "4. **Restart Jupyter** and select the \"Python (venv)\" kernel\n",
    "\n",
    "### System Requirements:\n",
    "- **Python**: 3.8 or higher\n",
    "- **RAM**: At least 4GB (8GB recommended)\n",
    "- **Disk Space**: ~2GB for dependencies\n",
    "\n",
    "---\n",
    "\n",
    "## 1. Setup and Imports\n"
   ]
  },
  {
   "cell_type": "code",
   "execution_count": 1,
   "metadata": {},
   "outputs": [
    {
     "name": "stdout",
     "output_type": "stream",
     "text": [
      "🐍 Python executable: /Users/freddyayala/Documents/GitHub/slm-ebook/companion-code/chapters/chapter-06/venv/bin/python3\n",
      "📦 Python path: /Users/freddyayala/.pyenv/versions/3.11.9/lib/python311.zip\n",
      "✅ Running in virtual environment\n",
      "✅ PyTorch version: 2.8.0\n",
      "✅ NumPy version: 2.3.3\n",
      "✅ Matplotlib version: 3.10.7\n",
      "✅ Requests version: 2.32.5\n"
     ]
    }
   ],
   "source": [
    "# 🔧 KERNEL CHECK - Run this first if you get import errors!\n",
    "import sys\n",
    "print(f\"🐍 Python executable: {sys.executable}\")\n",
    "print(f\"📦 Python path: {sys.path[0]}\")\n",
    "\n",
    "# Check if we're in a virtual environment\n",
    "if 'venv' in sys.executable or 'env' in sys.executable:\n",
    "    print(\"✅ Running in virtual environment\")\n",
    "else:\n",
    "    print(\"⚠️ WARNING: Not running in virtual environment!\")\n",
    "    print(\"   Please make sure you activated the venv and selected the correct kernel\")\n",
    "    print(\"   Go to Kernel → Change Kernel → Python (venv)\")\n",
    "\n",
    "# Test imports\n",
    "try:\n",
    "    import torch\n",
    "    print(f\"✅ PyTorch version: {torch.__version__}\")\n",
    "except ImportError:\n",
    "    print(\"❌ PyTorch not found - check your kernel selection!\")\n",
    "\n",
    "try:\n",
    "    import numpy as np\n",
    "    print(f\"✅ NumPy version: {np.__version__}\")\n",
    "except ImportError:\n",
    "    print(\"❌ NumPy not found - check your kernel selection!\")\n",
    "\n",
    "try:\n",
    "    import matplotlib.pyplot as plt\n",
    "    print(f\"✅ Matplotlib version: {plt.matplotlib.__version__}\")\n",
    "except ImportError:\n",
    "    print(\"❌ Matplotlib not found - check your kernel selection!\")\n",
    "\n",
    "try:\n",
    "    import requests\n",
    "    print(f\"✅ Requests version: {requests.__version__}\")\n",
    "except ImportError:\n",
    "    print(\"❌ Requests not found - check your kernel selection!\")\n"
   ]
  },
  {
   "cell_type": "code",
   "execution_count": 2,
   "metadata": {},
   "outputs": [
    {
     "name": "stdout",
     "output_type": "stream",
     "text": [
      "🔧 Chapter 6: The Engines That Power Intelligence\n",
      "============================================================\n",
      "PyTorch version: 2.8.0\n",
      "CUDA available: False\n",
      "✅ All imports successful!\n"
     ]
    }
   ],
   "source": [
    "# Import all required libraries\n",
    "import torch\n",
    "import torch.nn as nn\n",
    "import numpy as np\n",
    "import matplotlib.pyplot as plt\n",
    "import time\n",
    "import requests\n",
    "import json\n",
    "from typing import Dict, List, Tuple\n",
    "\n",
    "print(\"🔧 Chapter 6: The Engines That Power Intelligence\")\n",
    "print(\"=\" * 60)\n",
    "print(f\"PyTorch version: {torch.__version__}\")\n",
    "print(f\"CUDA available: {torch.cuda.is_available()}\")\n",
    "print(\"✅ All imports successful!\")\n"
   ]
  },
  {
   "cell_type": "markdown",
   "metadata": {},
   "source": [
    "## 2. Understanding Inference Engines\n",
    "\n",
    "### What are Inference Engines?\n",
    "**Inference engines** are specialized software frameworks that execute trained neural networks efficiently on different hardware platforms.\n",
    "\n",
    "### Key Inference Engines for On-Device AI:\n",
    "\n",
    "1. **llama.cpp** - CPU-optimized for transformer models\n",
    "2. **ONNX Runtime** - Cross-platform, hardware-agnostic\n",
    "3. **Transformers.js** - Web-based inference in browsers\n",
    "4. **PyTorch Mobile** - Mobile-optimized PyTorch\n",
    "5. **Core ML** - Apple's optimized inference engine\n",
    "6. **TensorFlow Lite** - Google's mobile inference framework\n",
    "\n",
    "### Why Different Engines?\n",
    "- **Hardware optimization**: Each engine is optimized for specific hardware\n",
    "- **Platform support**: Different engines support different platforms\n",
    "- **Performance trade-offs**: Speed vs memory vs compatibility\n",
    "- **Model format support**: Different engines support different model formats\n"
   ]
  },
  {
   "cell_type": "code",
   "execution_count": 3,
   "metadata": {},
   "outputs": [
    {
     "name": "stdout",
     "output_type": "stream",
     "text": [
      "🏗️ Test Model Architecture:\n",
      "   Parameters: 11,274\n",
      "   Model size: 44.04 KB\n",
      "   Input shape: torch.Size([1, 100])\n",
      "   Output shape: torch.Size([1, 10])\n",
      "✅ Model created and tested successfully!\n"
     ]
    }
   ],
   "source": [
    "# Create a test model for inference engine comparisonclass TestModel(nn.Module):    \"\"\"A test model to demonstrate different inference engines\"\"\"        def __init__(self, input_size=100, hidden_size=64, output_size=10):        super().__init__()        self.network = nn.Sequential(            nn.Linear(input_size, hidden_size),            nn.ReLU(),            nn.Linear(hidden_size, hidden_size),            nn.ReLU(),            nn.Linear(hidden_size, output_size)        )        def forward(self, x):        return self.network(x)# Create test model and datamodel = TestModel()input_data = torch.randn(1, 100)print(\"🏗️ Test Model Architecture:\")print(f\"   Parameters: {sum(p.numel() for p in model.parameters()):,}\")print(f\"   Model size: {sum(p.numel() * p.element_size() for p in model.parameters()) / 1024:.2f} KB\")print(f\"   Input shape: {input_data.shape}\")# Test forward passtest_model.eval()with torch.no_grad():    output = model(input_data)    print(f\"   Output shape: {output.shape}\")    print(\"✅ Model created and tested successfully!\")"
   ]
  },
  {
   "cell_type": "markdown",
   "metadata": {},
   "source": [
    "## 3. PyTorch Native Inference\n",
    "\n",
    "Let's start with PyTorch's native inference capabilities and measure performance.\n"
   ]
  },
  {
   "cell_type": "code",
   "execution_count": 4,
   "metadata": {},
   "outputs": [
    {
     "name": "stdout",
     "output_type": "stream",
     "text": [
      "🔥 PyTorch Native Inference Results:\n",
      "==================================================\n",
      "   Mean inference time: 0.02 ms\n",
      "   Std deviation: 0.00 ms\n",
      "   Min time: 0.02 ms\n",
      "   Max time: 0.07 ms\n",
      "   Throughput: 59674.0 inferences/sec\n",
      "   Memory usage: CPU only\n"
     ]
    }
   ],
   "source": [
    "# PyTorch Native Inference Benchmarkdef benchmark_pytorch_inference(test_model, input_data, num_iterations=1000):    \"\"\"Benchmark PyTorch native inference\"\"\"        model.eval()    times = []        # Warmup    with torch.no_grad():        for _ in range(10):            _ = model(input_data)        # Benchmark    with torch.no_grad():        for _ in range(num_iterations):            start_time = time.time()            output = model(input_data)            end_time = time.time()            times.append(end_time - start_time)        return {        \"mean_time\": np.mean(times),        \"std_time\": np.std(times),        \"min_time\": np.min(times),        \"max_time\": np.max(times),        \"throughput\": 1.0 / np.mean(times)    }# Run PyTorch benchmarkpytorch_results = benchmark_pytorch_inference(test_model, input_data)print(\"🔥 PyTorch Native Inference Results:\")print(\"=\" * 50)print(f\"   Mean inference time: {pytorch_results[\"mean_time\"] * 1000:.2f} ms\")print(f\"   Std deviation: {pytorch_results[\"std_time\"] * 1000:.2f} ms\")print(f\"   Min time: {pytorch_results[\"min_time\"] * 1000:.2f} ms\")print(f\"   Max time: {pytorch_results[\"max_time\"] * 1000:.2f} ms\")print(f\"   Throughput: {pytorch_results[\"throughput\"]:.1f} inferences/sec\")print(f\"   Memory usage: {torch.cuda.memory_allocated() / 1024**2:.2f} MB\" if torch.cuda.is_available() else \"   Memory usage: CPU only\")"
   ]
  },
  {
   "cell_type": "markdown",
   "metadata": {},
   "source": [
    "## 4. Real LLM Inference with Transformers\n",
    "\n",
    "Now let's try to run a real small language model! We'll use Hugging Face's transformers library to load a small model.\n"
   ]
  },
  {
   "cell_type": "code",
   "execution_count": 5,
   "metadata": {},
   "outputs": [
    {
     "name": "stdout",
     "output_type": "stream",
     "text": [
      "🚀 Loading Real Small Language Model...\n",
      "==================================================\n",
      "📥 Loading model: microsoft/DialoGPT-small\n",
      "   This may take a moment...\n"
     ]
    },
    {
     "data": {
      "application/vnd.jupyter.widget-view+json": {
       "model_id": "ac197deab3584604ba48dc6e8d9a88e4",
       "version_major": 2,
       "version_minor": 0
      },
      "text/plain": [
       "config.json:   0%|          | 0.00/641 [00:00<?, ?B/s]"
      ]
     },
     "metadata": {},
     "output_type": "display_data"
    },
    {
     "data": {
      "application/vnd.jupyter.widget-view+json": {
       "model_id": "aa51c234ea8d449498af947b77ace3a6",
       "version_major": 2,
       "version_minor": 0
      },
      "text/plain": [
       "model.safetensors:   0%|          | 0.00/351M [00:00<?, ?B/s]"
      ]
     },
     "metadata": {},
     "output_type": "display_data"
    },
    {
     "data": {
      "application/vnd.jupyter.widget-view+json": {
       "model_id": "1d18f276514044c6a7302a9d441284db",
       "version_major": 2,
       "version_minor": 0
      },
      "text/plain": [
       "generation_config.json:   0%|          | 0.00/124 [00:00<?, ?B/s]"
      ]
     },
     "metadata": {},
     "output_type": "display_data"
    },
    {
     "name": "stderr",
     "output_type": "stream",
     "text": [
      "The attention mask and the pad token id were not set. As a consequence, you may observe unexpected behavior. Please pass your input's `attention_mask` to obtain reliable results.\n",
      "Setting `pad_token_id` to `eos_token_id`:50256 for open-end generation.\n",
      "The attention mask is not set and cannot be inferred from input because pad token is same as eos token. As a consequence, you may observe unexpected behavior. Please pass your input's `attention_mask` to obtain reliable results.\n"
     ]
    },
    {
     "name": "stdout",
     "output_type": "stream",
     "text": [
      "✅ Model loaded successfully!\n",
      "   Model parameters: 124,439,808\n",
      "   Model size: 474.70 MB\n",
      "\\n🧪 Testing inference with prompt: 'Hello, how are you?'\n",
      "   Response: Hello, how are you?..\n",
      "   Inference time: 0.11 seconds\n",
      "   Tokens generated: 3\n",
      "   Tokens per second: 26.5\n"
     ]
    }
   ],
   "source": [
    "# Try to load a real small language modeltry:    from transformers import AutoTokenizer, AutoModelForCausalLM    import torch        print(\"🚀 Loading Real Small Language Model...\")    print(\"=\" * 50)        # Use a small model that can run on CPU    model_name = \"microsoft/DialoGPT-small\"  # Small conversational model        print(f\"📥 Loading model: {model_name}\")    print(\"   This may take a moment...\")        # Load tokenizer and model    tokenizer = AutoTokenizer.from_pretrained(model_name)    model = AutoModelForCausalLM.from_pretrained(model_name)        # Add padding token if it doesn't exist    if tokenizer.pad_token is None:        tokenizer.pad_token = tokenizer.eos_token        print(\"✅ Model loaded successfully!\")    print(f\"   Model parameters: {sum(p.numel() for p in test_model.parameters()):,}\")    print(f\"   Model size: {sum(p.numel() * p.element_size() for p in test_model.parameters()) / 1024**2:.2f} MB\")        # Test inference    test_prompt = \"Hello, how are you?\"    inputs = tokenizer.encode(test_prompt, return_tensors='pt')        print(f\"\\\\n🧪 Testing inference with prompt: '{test_prompt}'\")        with torch.no_grad():        start_time = time.time()        outputs = model.generate(inputs, max_length=50, num_return_sequences=1, do_sample=True, temperature=0.7)        end_time = time.time()                response = tokenizer.decode(outputs[0], skip_special_tokens=True)        inference_time = end_time - start_time                print(f\"   Response: {response}\")        print(f\"   Inference time: {inference_time:.2f} seconds\")        print(f\"   Tokens generated: {len(outputs[0]) - len(inputs[0])}\")        print(f\"   Tokens per second: {(len(outputs[0]) - len(inputs[0])) / inference_time:.1f}\")        real_llm_available = True    except ImportError:    print(\"⚠️ Transformers library not available\")    print(\"   To install: pip install transformers\")    real_llm_available = False    except Exception as e:    print(f\"❌ Error loading model: {e}\")    print(\"   This might be due to network issues or model size\")    real_llm_available = False"
   ]
  },
  {
   "cell_type": "markdown",
   "metadata": {},
   "source": [
    "## 5. Key Takeaways and Next Steps\n",
    "\n",
    "### What We Learned:\n",
    "1. **PyTorch Native** is best for development and research\n",
    "2. **Real LLMs** can run on-device with proper optimization\n",
    "3. **Performance benchmarking** helps choose the right engine\n",
    "4. **Model size** and **inference time** are key metrics\n",
    "5. **Platform constraints** determine engine selection\n",
    "\n",
    "### Performance Insights:\n",
    "- **Test models** provide consistent benchmarking\n",
    "- **Real LLMs** show practical performance characteristics\n",
    "- **Memory usage** varies significantly between engines\n",
    "- **Inference speed** depends on model complexity\n",
    "\n",
    "### Production Considerations:\n",
    "- **Model format conversion** may be required\n",
    "- **Hardware-specific optimizations** can provide significant gains\n",
    "- **Memory constraints** vary by deployment platform\n",
    "- **Battery impact** is crucial for mobile applications\n",
    "\n",
    "### Next Steps:\n",
    "- Explore **model optimization** techniques (quantization, pruning)\n",
    "- Learn about **hardware-specific** inference engines\n",
    "- Practice with **real language models** in different engines\n",
    "- Understand **deployment pipelines** for each platform\n"
   ]
  },
  {
   "cell_type": "markdown",
   "metadata": {},
   "source": [
    "## 3. PyTorch Native Inference\n",
    "\n",
    "Let's start with PyTorch's native inference capabilities and measure performance.\n"
   ]
  },
  {
   "cell_type": "code",
   "execution_count": 1,
   "metadata": {},
   "outputs": [],
   "source": [
    "# PyTorch Native Inference Benchmarkdef benchmark_pytorch_inference(test_model, input_data, num_iterations=1000):    \"\"\"Benchmark PyTorch native inference\"\"\"        model.eval()    times = []        # Warmup    with torch.no_grad():        for _ in range(10):            _ = model(input_data)        # Benchmark    with torch.no_grad():        for _ in range(num_iterations):            start_time = time.time()            output = model(input_data)            end_time = time.time()            times.append(end_time - start_time)        return {        'mean_time': np.mean(times),        'std_time': np.std(times),        'min_time': np.min(times),        'max_time': np.max(times),        'throughput': 1.0 / np.mean(times)    }# Run PyTorch benchmarkpytorch_results = benchmark_pytorch_inference(test_model, input_data)print(\"🔥 PyTorch Native Inference Results:\")print(\"=\" * 50)print(f\"   Mean inference time: {pytorch_results['mean_time'] * 1000:.2f} ms\")print(f\"   Std deviation: {pytorch_results['std_time'] * 1000:.2f} ms\")print(f\"   Min time: {pytorch_results['min_time'] * 1000:.2f} ms\")print(f\"   Max time: {pytorch_results['max_time'] * 1000:.2f} ms\")print(f\"   Throughput: {pytorch_results['throughput']:.1f} inferences/sec\")print(f\"   Memory usage: {torch.cuda.memory_allocated() / 1024**2:.2f} MB\" if torch.cuda.is_available() else \"   Memory usage: CPU only\")"
   ]
  },
  {
   "cell_type": "markdown",
   "metadata": {},
   "source": [
    "## 4. Real LLM Inference with Transformers\n",
    "\n",
    "Now let's try to run a real small language model! We'll use Hugging Face's transformers library to load a small model.\n"
   ]
  },
  {
   "cell_type": "code",
   "execution_count": 7,
   "metadata": {},
   "outputs": [
    {
     "name": "stdout",
     "output_type": "stream",
     "text": [
      "🚀 Loading Real Small Language Model...\n",
      "==================================================\n",
      "📥 Loading model: microsoft/DialoGPT-small\n",
      "   This may take a moment...\n"
     ]
    },
    {
     "name": "stderr",
     "output_type": "stream",
     "text": [
      "The attention mask and the pad token id were not set. As a consequence, you may observe unexpected behavior. Please pass your input's `attention_mask` to obtain reliable results.\n",
      "Setting `pad_token_id` to `eos_token_id`:50256 for open-end generation.\n"
     ]
    },
    {
     "name": "stdout",
     "output_type": "stream",
     "text": [
      "✅ Model loaded successfully!\n",
      "   Model parameters: 124,439,808\n",
      "   Model size: 474.70 MB\n",
      "\\n🧪 Testing inference with prompt: 'Hello, how are you?'\n",
      "   Response: Hello, how are you?.\n",
      "   Inference time: 0.09 seconds\n",
      "   Tokens generated: 2\n",
      "   Tokens per second: 21.3\n"
     ]
    }
   ],
   "source": [
    "# Try to load a real small language modeltry:    from transformers import AutoTokenizer, AutoModelForCausalLM    import torch        print(\"🚀 Loading Real Small Language Model...\")    print(\"=\" * 50)        # Use a small model that can run on CPU    model_name = \"microsoft/DialoGPT-small\"  # Small conversational model        print(f\"📥 Loading model: {model_name}\")    print(\"   This may take a moment...\")        # Load tokenizer and model    tokenizer = AutoTokenizer.from_pretrained(model_name)    model = AutoModelForCausalLM.from_pretrained(model_name)        # Add padding token if it doesn't exist    if tokenizer.pad_token is None:        tokenizer.pad_token = tokenizer.eos_token        print(\"✅ Model loaded successfully!\")    print(f\"   Model parameters: {sum(p.numel() for p in test_model.parameters()):,}\")    print(f\"   Model size: {sum(p.numel() * p.element_size() for p in test_model.parameters()) / 1024**2:.2f} MB\")        # Test inference    test_prompt = \"Hello, how are you?\"    inputs = tokenizer.encode(test_prompt, return_tensors='pt')        print(f\"\\\\n🧪 Testing inference with prompt: '{test_prompt}'\")        with torch.no_grad():        start_time = time.time()        outputs = model.generate(inputs, max_length=50, num_return_sequences=1, do_sample=True, temperature=0.7)        end_time = time.time()                response = tokenizer.decode(outputs[0], skip_special_tokens=True)        inference_time = end_time - start_time                print(f\"   Response: {response}\")        print(f\"   Inference time: {inference_time:.2f} seconds\")        print(f\"   Tokens generated: {len(outputs[0]) - len(inputs[0])}\")        print(f\"   Tokens per second: {(len(outputs[0]) - len(inputs[0])) / inference_time:.1f}\")        real_llm_available = True    except ImportError:    print(\"⚠️ Transformers library not available\")    print(\"   To install: pip install transformers\")    real_llm_available = False    except Exception as e:    print(f\"❌ Error loading model: {e}\")    print(\"   This might be due to network issues or model size\")    real_llm_available = False"
   ]
  },
  {
   "cell_type": "markdown",
   "metadata": {},
   "source": [
    "## 5. Inference Engine Comparison\n",
    "\n",
    "Let's compare different inference approaches and their characteristics.\n"
   ]
  },
  {
   "cell_type": "code",
   "execution_count": 8,
   "metadata": {},
   "outputs": [
    {
     "name": "stdout",
     "output_type": "stream",
     "text": [
      "🔍 Inference Engine Comparison\n",
      "================================================================================\n",
      "\\n🚀 PyTorch Native\n",
      "----------------------------------------\n",
      "   Platform: Cross-platform\n",
      "   Hardware: CPU, GPU, NPU\n",
      "   Model Format: PyTorch (.pth)\n",
      "   Memory Efficiency: Medium\n",
      "   Speed: Good\n",
      "   Ease of Use: Excellent\n",
      "   Best For: Development/Research\n",
      "   Pros: Easy to use, Full control, Rich ecosystem\n",
      "   Cons: Large memory footprint, Not optimized for production\n",
      "\\n🚀 llama.cpp\n",
      "----------------------------------------\n",
      "   Platform: Cross-platform\n",
      "   Hardware: CPU (optimized)\n",
      "   Model Format: GGUF\n",
      "   Memory Efficiency: Excellent\n",
      "   Speed: Excellent\n",
      "   Ease of Use: Good\n",
      "   Best For: Production\n",
      "   Pros: Very fast, Low memory, Quantization support\n",
      "   Cons: Limited to transformer models, C++ based\n",
      "\\n🚀 ONNX Runtime\n",
      "----------------------------------------\n",
      "   Platform: Cross-platform\n",
      "   Hardware: CPU, GPU, NPU\n",
      "   Model Format: ONNX\n",
      "   Memory Efficiency: Good\n",
      "   Speed: Good\n",
      "   Ease of Use: Good\n",
      "   Best For: Production\n",
      "   Pros: Hardware agnostic, Optimized, Wide support\n",
      "   Cons: Model conversion required, Limited model types\n",
      "\\n🚀 Transformers.js\n",
      "----------------------------------------\n",
      "   Platform: Web browsers\n",
      "   Hardware: CPU, WebGL\n",
      "   Model Format: ONNX (Web)\n",
      "   Memory Efficiency: Good\n",
      "   Speed: Medium\n",
      "   Ease of Use: Excellent\n",
      "   Best For: Web applications\n",
      "   Pros: Runs in browser, No server needed, Easy integration\n",
      "   Cons: Limited by browser, Model size constraints\n",
      "\\n🚀 PyTorch Mobile\n",
      "----------------------------------------\n",
      "   Platform: Mobile (iOS/Android)\n",
      "   Hardware: Mobile CPU, GPU\n",
      "   Model Format: TorchScript\n",
      "   Memory Efficiency: Good\n",
      "   Speed: Good\n",
      "   Ease of Use: Good\n",
      "   Best For: Mobile apps\n",
      "   Pros: Mobile optimized, Native integration, Good performance\n",
      "   Cons: Mobile only, Limited hardware support\n"
     ]
    }
   ],
   "source": [
    "# Inference Engine Comparison\n",
    "def create_engine_comparison():\n",
    "    \"\"\"Create a comprehensive comparison of inference engines\"\"\"\n",
    "    \n",
    "    engines = {\n",
    "        'PyTorch Native': {\n",
    "            'platform': 'Cross-platform',\n",
    "            'hardware': 'CPU, GPU, NPU',\n",
    "            'model_format': 'PyTorch (.pth)',\n",
    "            'memory_efficiency': 'Medium',\n",
    "            'speed': 'Good',\n",
    "            'ease_of_use': 'Excellent',\n",
    "            'deployment': 'Development/Research',\n",
    "            'pros': ['Easy to use', 'Full control', 'Rich ecosystem'],\n",
    "            'cons': ['Large memory footprint', 'Not optimized for production']\n",
    "        },\n",
    "        'llama.cpp': {\n",
    "            'platform': 'Cross-platform',\n",
    "            'hardware': 'CPU (optimized)',\n",
    "            'model_format': 'GGUF',\n",
    "            'memory_efficiency': 'Excellent',\n",
    "            'speed': 'Excellent',\n",
    "            'ease_of_use': 'Good',\n",
    "            'deployment': 'Production',\n",
    "            'pros': ['Very fast', 'Low memory', 'Quantization support'],\n",
    "            'cons': ['Limited to transformer models', 'C++ based']\n",
    "        },\n",
    "        'ONNX Runtime': {\n",
    "            'platform': 'Cross-platform',\n",
    "            'hardware': 'CPU, GPU, NPU',\n",
    "            'model_format': 'ONNX',\n",
    "            'memory_efficiency': 'Good',\n",
    "            'speed': 'Good',\n",
    "            'ease_of_use': 'Good',\n",
    "            'deployment': 'Production',\n",
    "            'pros': ['Hardware agnostic', 'Optimized', 'Wide support'],\n",
    "            'cons': ['Model conversion required', 'Limited model types']\n",
    "        },\n",
    "        'Transformers.js': {\n",
    "            'platform': 'Web browsers',\n",
    "            'hardware': 'CPU, WebGL',\n",
    "            'model_format': 'ONNX (Web)',\n",
    "            'memory_efficiency': 'Good',\n",
    "            'speed': 'Medium',\n",
    "            'ease_of_use': 'Excellent',\n",
    "            'deployment': 'Web applications',\n",
    "            'pros': ['Runs in browser', 'No server needed', 'Easy integration'],\n",
    "            'cons': ['Limited by browser', 'Model size constraints']\n",
    "        },\n",
    "        'PyTorch Mobile': {\n",
    "            'platform': 'Mobile (iOS/Android)',\n",
    "            'hardware': 'Mobile CPU, GPU',\n",
    "            'model_format': 'TorchScript',\n",
    "            'memory_efficiency': 'Good',\n",
    "            'speed': 'Good',\n",
    "            'ease_of_use': 'Good',\n",
    "            'deployment': 'Mobile apps',\n",
    "            'pros': ['Mobile optimized', 'Native integration', 'Good performance'],\n",
    "            'cons': ['Mobile only', 'Limited hardware support']\n",
    "        }\n",
    "    }\n",
    "    \n",
    "    return engines\n",
    "\n",
    "# Create comparison\n",
    "engines = create_engine_comparison()\n",
    "\n",
    "print(\"🔍 Inference Engine Comparison\")\n",
    "print(\"=\" * 80)\n",
    "\n",
    "for engine_name, specs in engines.items():\n",
    "    print(f\"\\\\n🚀 {engine_name}\")\n",
    "    print(\"-\" * 40)\n",
    "    print(f\"   Platform: {specs['platform']}\")\n",
    "    print(f\"   Hardware: {specs['hardware']}\")\n",
    "    print(f\"   Model Format: {specs['model_format']}\")\n",
    "    print(f\"   Memory Efficiency: {specs['memory_efficiency']}\")\n",
    "    print(f\"   Speed: {specs['speed']}\")\n",
    "    print(f\"   Ease of Use: {specs['ease_of_use']}\")\n",
    "    print(f\"   Best For: {specs['deployment']}\")\n",
    "    print(f\"   Pros: {', '.join(specs['pros'])}\")\n",
    "    print(f\"   Cons: {', '.join(specs['cons'])}\")\n"
   ]
  },
  {
   "cell_type": "code",
   "execution_count": 9,
   "metadata": {},
   "outputs": [
    {
     "data": {
      "image/png": "[encoded data removed]",
      "text/plain": [
       "<Figure size 1600x1200 with 4 Axes>"
      ]
     },
     "metadata": {},
     "output_type": "display_data"
    },
    {
     "name": "stdout",
     "output_type": "stream",
     "text": [
      "\\n📊 Key Insights:\n",
      "   • llama.cpp excels in memory efficiency and speed\n",
      "   • PyTorch Native is easiest to use but less efficient\n",
      "   • ONNX Runtime provides good balance across all metrics\n",
      "   • Transformers.js is unique for web deployment\n",
      "   • PyTorch Mobile is optimized for mobile platforms\n"
     ]
    }
   ],
   "source": [
    "# Visualize inference engine characteristics\n",
    "fig, ((ax1, ax2), (ax3, ax4)) = plt.subplots(2, 2, figsize=(16, 12))\n",
    "\n",
    "# Extract data for visualization\n",
    "engine_names = list(engines.keys())\n",
    "memory_scores = {'Excellent': 5, 'Good': 4, 'Medium': 3, 'Poor': 2, 'Very Poor': 1}\n",
    "speed_scores = {'Excellent': 5, 'Good': 4, 'Medium': 3, 'Poor': 2, 'Very Poor': 1}\n",
    "ease_scores = {'Excellent': 5, 'Good': 4, 'Medium': 3, 'Poor': 2, 'Very Poor': 1}\n",
    "\n",
    "memory_values = [memory_scores[engines[name]['memory_efficiency']] for name in engine_names]\n",
    "speed_values = [speed_scores[engines[name]['speed']] for name in engine_names]\n",
    "ease_values = [ease_scores[engines[name]['ease_of_use']] for name in engine_names]\n",
    "\n",
    "# Plot 1: Memory Efficiency\n",
    "bars1 = ax1.bar(engine_names, memory_values, color=['#FF6B6B', '#4ECDC4', '#45B7D1', '#96CEB4', '#FFEAA7'])\n",
    "ax1.set_title('Memory Efficiency Comparison', fontsize=14, fontweight='bold')\n",
    "ax1.set_ylabel('Efficiency Score')\n",
    "ax1.set_ylim(0, 6)\n",
    "ax1.tick_params(axis='x', rotation=45)\n",
    "for bar, value in zip(bars1, memory_values):\n",
    "    ax1.text(bar.get_x() + bar.get_width()/2., bar.get_height() + 0.1,\n",
    "             f'{value}', ha='center', va='bottom', fontweight='bold')\n",
    "\n",
    "# Plot 2: Speed Comparison\n",
    "bars2 = ax2.bar(engine_names, speed_values, color=['#FF6B6B', '#4ECDC4', '#45B7D1', '#96CEB4', '#FFEAA7'])\n",
    "ax2.set_title('Speed Comparison', fontsize=14, fontweight='bold')\n",
    "ax2.set_ylabel('Speed Score')\n",
    "ax2.set_ylim(0, 6)\n",
    "ax2.tick_params(axis='x', rotation=45)\n",
    "for bar, value in zip(bars2, speed_values):\n",
    "    ax2.text(bar.get_x() + bar.get_width()/2., bar.get_height() + 0.1,\n",
    "             f'{value}', ha='center', va='bottom', fontweight='bold')\n",
    "\n",
    "# Plot 3: Ease of Use\n",
    "bars3 = ax3.bar(engine_names, ease_values, color=['#FF6B6B', '#4ECDC4', '#45B7D1', '#96CEB4', '#FFEAA7'])\n",
    "ax3.set_title('Ease of Use Comparison', fontsize=14, fontweight='bold')\n",
    "ax3.set_ylabel('Ease Score')\n",
    "ax3.set_ylim(0, 6)\n",
    "ax3.tick_params(axis='x', rotation=45)\n",
    "for bar, value in zip(bars3, ease_values):\n",
    "    ax3.text(bar.get_x() + bar.get_width()/2., bar.get_height() + 0.1,\n",
    "             f'{value}', ha='center', va='bottom', fontweight='bold')\n",
    "\n",
    "# Plot 4: Platform Support\n",
    "platforms = ['Desktop', 'Mobile', 'Web', 'Server', 'Edge']\n",
    "platform_support = {\n",
    "    'PyTorch Native': [1, 0, 0, 1, 1],\n",
    "    'llama.cpp': [1, 1, 0, 1, 1],\n",
    "    'ONNX Runtime': [1, 1, 0, 1, 1],\n",
    "    'Transformers.js': [0, 0, 1, 0, 0],\n",
    "    'PyTorch Mobile': [0, 1, 0, 0, 1]\n",
    "}\n",
    "\n",
    "x = np.arange(len(platforms))\n",
    "width = 0.15\n",
    "colors = ['#FF6B6B', '#4ECDC4', '#45B7D1', '#96CEB4', '#FFEAA7']\n",
    "\n",
    "for i, (engine, support) in enumerate(platform_support.items()):\n",
    "    ax4.bar(x + i * width, support, width, label=engine, color=colors[i])\n",
    "\n",
    "ax4.set_title('Platform Support Matrix', fontsize=14, fontweight='bold')\n",
    "ax4.set_ylabel('Support (1=Yes, 0=No)')\n",
    "ax4.set_xlabel('Platform')\n",
    "ax4.set_xticks(x + width * 2)\n",
    "ax4.set_xticklabels(platforms)\n",
    "ax4.legend()\n",
    "ax4.set_ylim(0, 1.2)\n",
    "\n",
    "plt.tight_layout()\n",
    "plt.show()\n",
    "\n",
    "print(\"\\\\n📊 Key Insights:\")\n",
    "print(\"   • llama.cpp excels in memory efficiency and speed\")\n",
    "print(\"   • PyTorch Native is easiest to use but less efficient\")\n",
    "print(\"   • ONNX Runtime provides good balance across all metrics\")\n",
    "print(\"   • Transformers.js is unique for web deployment\")\n",
    "print(\"   • PyTorch Mobile is optimized for mobile platforms\")\n"
   ]
  },
  {
   "cell_type": "markdown",
   "metadata": {},
   "source": [
    "## 6. Engine Selection Guide\n",
    "\n",
    "### How to Choose the Right Inference Engine\n",
    "\n",
    "**For Development & Research:**\n",
    "- **PyTorch Native**: Best for experimentation and prototyping\n",
    "\n",
    "**For Production Desktop/Server:**\n",
    "- **llama.cpp**: Best for transformer models, excellent performance\n",
    "- **ONNX Runtime**: Best for cross-platform deployment\n",
    "\n",
    "**For Mobile Apps:**\n",
    "- **PyTorch Mobile**: Best for iOS/Android native apps\n",
    "- **ONNX Runtime**: Good alternative with broader hardware support\n",
    "\n",
    "**For Web Applications:**\n",
    "- **Transformers.js**: Only option for browser-based inference\n",
    "\n",
    "**For Edge Devices:**\n",
    "- **llama.cpp**: Best for resource-constrained devices\n",
    "- **ONNX Runtime**: Good for diverse hardware ecosystems\n"
   ]
  },
  {
   "cell_type": "code",
   "execution_count": null,
   "metadata": {},
   "outputs": [],
   "source": [
    "# Real-world performance simulation\n",
    "def simulate_real_world_performance():\n",
    "    \"\"\"Simulate real-world performance scenarios\"\"\"\n",
    "    \n",
    "    print(\"🌍 Real-World Performance Simulation\")\n",
    "    print(\"=\" * 60)\n",
    "    \n",
    "    # Simulate different scenarios\n",
    "    scenarios = {\n",
    "        'Mobile Chat App': {\n",
    "            'engine': 'PyTorch Mobile',\n",
    "            'model_size': '100MB',\n",
    "            'inference_time': '200ms',\n",
    "            'memory_usage': '150MB',\n",
    "            'battery_impact': 'Medium',\n",
    "            'use_case': 'Real-time chat responses'\n",
    "        },\n",
    "        'Desktop Assistant': {\n",
    "            'engine': 'llama.cpp',\n",
    "            'model_size': '4GB',\n",
    "            'inference_time': '50ms',\n",
    "            'memory_usage': '6GB',\n",
    "            'battery_impact': 'Low',\n",
    "            'use_case': 'Fast document analysis'\n",
    "        },\n",
    "        'Web App': {\n",
    "            'engine': 'Transformers.js',\n",
    "            'model_size': '50MB',\n",
    "            'inference_time': '500ms',\n",
    "            'memory_usage': '100MB',\n",
    "            'battery_impact': 'High',\n",
    "            'use_case': 'Browser-based text generation'\n",
    "        },\n",
    "        'Edge Device': {\n",
    "            'engine': 'ONNX Runtime',\n",
    "            'model_size': '200MB',\n",
    "            'inference_time': '100ms',\n",
    "            'memory_usage': '300MB',\n",
    "            'battery_impact': 'Low',\n",
    "            'use_case': 'IoT device intelligence'\n",
    "        }\n",
    "    }\n",
    "    \n",
    "    for scenario_name, specs in scenarios.items():\n",
    "        print(f\"\\\\n📱 {scenario_name}\")\n",
    "        print(\"-\" * 40)\n",
    "        print(f\"   Engine: {specs['engine']}\")\n",
    "        print(f\"   Model Size: {specs['model_size']}\")\n",
    "        print(f\"   Inference Time: {specs['inference_time']}\")\n",
    "        print(f\"   Memory Usage: {specs['memory_usage']}\")\n",
    "        print(f\"   Battery Impact: {specs['battery_impact']}\")\n",
    "        print(f\"   Use Case: {specs['use_case']}\")\n",
    "    \n",
    "    print(\"\\\\n🎯 Key Takeaways:\")\n",
    "    print(\"   • Mobile: Prioritize memory efficiency and battery life\")\n",
    "    print(\"   • Desktop: Can handle larger models for better quality\")\n",
    "    print(\"   • Web: Limited by browser constraints\")\n",
    "    print(\"   • Edge: Balance between performance and resource usage\")\n",
    "\n",
    "# Run simulation\n",
    "simulate_real_world_performance()\n"
   ]
  },
  {
   "cell_type": "markdown",
   "metadata": {},
   "source": [
    "## 7. Key Takeaways and Next Steps\n",
    "\n",
    "### What We Learned:\n",
    "1. **PyTorch Native** is best for development and research\n",
    "2. **llama.cpp** excels in production with transformer models\n",
    "3. **ONNX Runtime** provides good cross-platform balance\n",
    "4. **Transformers.js** enables browser-based inference\n",
    "5. **PyTorch Mobile** optimizes for mobile platforms\n",
    "\n",
    "### Performance Insights:\n",
    "- **Memory efficiency** varies significantly between engines\n",
    "- **Speed** depends on hardware optimization and model format\n",
    "- **Platform support** determines deployment options\n",
    "- **Ease of use** affects development velocity\n",
    "\n",
    "### Production Considerations:\n",
    "- **Model format conversion** may be required\n",
    "- **Hardware-specific optimizations** can provide significant gains\n",
    "- **Memory constraints** vary by deployment platform\n",
    "- **Battery impact** is crucial for mobile applications\n",
    "\n",
    "### Next Steps:\n",
    "- Explore **model optimization** techniques (quantization, pruning)\n",
    "- Learn about **hardware-specific** inference engines\n",
    "- Practice with **real language models** in different engines\n",
    "- Understand **deployment pipelines** for each platform\n"
   ]
  }
 ],
 "metadata": {
  "kernelspec": {
   "display_name": "Python 3 (venv)",
   "language": "python",
   "name": "venv"
  },
  "language_info": {
   "codemirror_mode": {
    "name": "ipython",
    "version": 3
   },
   "file_extension": ".py",
   "mimetype": "text/x-python",
   "name": "python",
   "nbconvert_exporter": "python",
   "pygments_lexer": "ipython3",
   "version": "3.13.2"
  }
 },
 "nbformat": 4,
 "nbformat_minor": 4
}
